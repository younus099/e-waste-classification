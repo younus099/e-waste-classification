{
 "cells": [
  {
   "cell_type": "code",
   "execution_count": 25,
   "id": "548e6cf4-d887-48af-9540-b58b04632c6e",
   "metadata": {},
   "outputs": [],
   "source": [
    "import os\n",
    "import random\n",
    "import warnings\n",
    "import numpy as np\n",
    "import matplotlib.pyplot as plt\n",
    "import seaborn as sns\n",
    "import tensorflow as tf\n",
    "from PIL import Image\n",
    "from sklearn.metrics import confusion_matrix, classification_report\n",
    "import gradio as gr\n",
    "\n",
    "from tensorflow.keras.models import Model, Sequential, load_model\n",
    "from tensorflow.keras.layers import Dense, GlobalAveragePooling2D, Dropout, Input\n",
    "from tensorflow.keras.optimizers import Adam\n",
    "from tensorflow.keras.callbacks import EarlyStopping, ModelCheckpoint\n",
    "from tensorflow.keras.applications import EfficientNetV2B0\n",
    "from tensorflow.keras.applications.efficientnet import preprocess_input\n",
    "warnings.filterwarnings('ignore')\n",
    "seed = 42\n",
    "random.seed(seed)\n",
    "np.random.seed(seed)\n",
    "tf.random.set_seed(seed)\n"
   ]
  },
  {
   "cell_type": "code",
   "execution_count": 2,
   "id": "19db1fb2-cdd3-4f5e-91ee-ddc695c22ccd",
   "metadata": {},
   "outputs": [],
   "source": [
    "trainpath = \"C:/E-Waste-Project/Dataset/train\"\n",
    "validpath = \"C:/E-Waste-Project/Dataset/val\"\n",
    "testpath  = \"C:/E-Waste-Project/Dataset/test\""
   ]
  },
  {
   "cell_type": "code",
   "execution_count": 4,
   "id": "04c8f836-7180-4b91-b4d0-7a41ef20193f",
   "metadata": {},
   "outputs": [
    {
     "name": "stdout",
     "output_type": "stream",
     "text": [
      "Found 2400 files belonging to 10 classes.\n",
      "Found 300 files belonging to 10 classes.\n",
      "Found 300 files belonging to 10 classes.\n"
     ]
    }
   ],
   "source": [
    "datatrain = tf.keras.utils.image_dataset_from_directory(trainpath, shuffle=True, image_size=(128, 128), batch_size=32)\n",
    "datavalid = tf.keras.utils.image_dataset_from_directory(validpath, shuffle=True, image_size=(128, 128), batch_size=32)\n",
    "datatest = tf.keras.utils.image_dataset_from_directory(testpath, shuffle=False, image_size=(128, 128), batch_size=32)"
   ]
  },
  {
   "cell_type": "code",
   "execution_count": 5,
   "id": "4fbdd7d4-bb32-4d4f-837d-23e059f917d9",
   "metadata": {},
   "outputs": [],
   "source": [
    "class_names = datatrain.class_names"
   ]
  },
  {
   "cell_type": "code",
   "execution_count": 6,
   "id": "58b846b6-3ae2-41dd-b581-d316ce2f0389",
   "metadata": {},
   "outputs": [],
   "source": [
    "AUTOTUNE = tf.data.AUTOTUNE\n",
    "datatrain = datatrain.prefetch(buffer_size=AUTOTUNE)\n",
    "datavalid = datavalid.prefetch(buffer_size=AUTOTUNE)\n",
    "datatest = datatest.prefetch(buffer_size=AUTOTUNE)"
   ]
  },
  {
   "cell_type": "code",
   "execution_count": 7,
   "id": "b7897684-6133-4b60-848b-d748bff5115f",
   "metadata": {},
   "outputs": [],
   "source": [
    "base_model = EfficientNetV2B0(include_top=False, weights='imagenet', input_shape=(128, 128, 3))\n",
    "base_model.trainable = False"
   ]
  },
  {
   "cell_type": "code",
   "execution_count": 8,
   "id": "7d7e2054-39d0-447c-a106-4e39b4fda8e5",
   "metadata": {},
   "outputs": [],
   "source": [
    "inputs = layers.Input(shape=(128, 128, 3))\n",
    "x = preprocess_input(inputs)\n",
    "x = base_model(x, training=False)\n",
    "x = layers.GlobalAveragePooling2D()(x)\n",
    "x = layers.Dropout(0.3)(x)\n",
    "outputs = layers.Dense(len(class_names), activation='softmax')(x)\n",
    "model = models.Model(inputs, outputs)"
   ]
  },
  {
   "cell_type": "code",
   "execution_count": 11,
   "id": "66d626da-4bb7-4b64-9b1f-6c501a39e133",
   "metadata": {},
   "outputs": [],
   "source": [
    "model.compile(optimizer=Adam(learning_rate=0.001), loss='sparse_categorical_crossentropy', metrics=['accuracy'])"
   ]
  },
  {
   "cell_type": "code",
   "execution_count": 14,
   "id": "4d642da6-f3af-4149-ab6a-956c5fa4c1c0",
   "metadata": {},
   "outputs": [],
   "source": [
    "earlystop = callbacks.EarlyStopping(monitor='val_loss', patience=5, restore_best_weights=True)\n",
    "checkpoint = callbacks.ModelCheckpoint('best_model.keras', monitor='val_accuracy', save_best_only=True)"
   ]
  },
  {
   "cell_type": "code",
   "execution_count": 15,
   "id": "88ebcc6c-f2c7-4d9c-b923-cb3e2729d9ce",
   "metadata": {},
   "outputs": [
    {
     "name": "stdout",
     "output_type": "stream",
     "text": [
      "Epoch 1/20\n",
      "\u001b[1m75/75\u001b[0m \u001b[32m━━━━━━━━━━━━━━━━━━━━\u001b[0m\u001b[37m\u001b[0m \u001b[1m65s\u001b[0m 871ms/step - accuracy: 0.9340 - loss: 0.2695 - val_accuracy: 0.9433 - val_loss: 0.2205\n",
      "Epoch 2/20\n",
      "\u001b[1m75/75\u001b[0m \u001b[32m━━━━━━━━━━━━━━━━━━━━\u001b[0m\u001b[37m\u001b[0m \u001b[1m82s\u001b[0m 878ms/step - accuracy: 0.9472 - loss: 0.2093 - val_accuracy: 0.9500 - val_loss: 0.1964\n",
      "Epoch 3/20\n",
      "\u001b[1m75/75\u001b[0m \u001b[32m━━━━━━━━━━━━━━━━━━━━\u001b[0m\u001b[37m\u001b[0m \u001b[1m76s\u001b[0m 790ms/step - accuracy: 0.9607 - loss: 0.1628 - val_accuracy: 0.9533 - val_loss: 0.1821\n",
      "Epoch 4/20\n",
      "\u001b[1m75/75\u001b[0m \u001b[32m━━━━━━━━━━━━━━━━━━━━\u001b[0m\u001b[37m\u001b[0m \u001b[1m66s\u001b[0m 575ms/step - accuracy: 0.9561 - loss: 0.1608 - val_accuracy: 0.9533 - val_loss: 0.1727\n",
      "Epoch 5/20\n",
      "\u001b[1m75/75\u001b[0m \u001b[32m━━━━━━━━━━━━━━━━━━━━\u001b[0m\u001b[37m\u001b[0m \u001b[1m85s\u001b[0m 611ms/step - accuracy: 0.9682 - loss: 0.1347 - val_accuracy: 0.9567 - val_loss: 0.1689\n",
      "Epoch 6/20\n",
      "\u001b[1m75/75\u001b[0m \u001b[32m━━━━━━━━━━━━━━━━━━━━\u001b[0m\u001b[37m\u001b[0m \u001b[1m53s\u001b[0m 713ms/step - accuracy: 0.9718 - loss: 0.1249 - val_accuracy: 0.9667 - val_loss: 0.1603\n",
      "Epoch 7/20\n",
      "\u001b[1m75/75\u001b[0m \u001b[32m━━━━━━━━━━━━━━━━━━━━\u001b[0m\u001b[37m\u001b[0m \u001b[1m76s\u001b[0m 628ms/step - accuracy: 0.9685 - loss: 0.1194 - val_accuracy: 0.9667 - val_loss: 0.1542\n",
      "Epoch 8/20\n",
      "\u001b[1m75/75\u001b[0m \u001b[32m━━━━━━━━━━━━━━━━━━━━\u001b[0m\u001b[37m\u001b[0m \u001b[1m103s\u001b[0m 898ms/step - accuracy: 0.9776 - loss: 0.0966 - val_accuracy: 0.9667 - val_loss: 0.1517\n",
      "Epoch 9/20\n",
      "\u001b[1m75/75\u001b[0m \u001b[32m━━━━━━━━━━━━━━━━━━━━\u001b[0m\u001b[37m\u001b[0m \u001b[1m58s\u001b[0m 582ms/step - accuracy: 0.9762 - loss: 0.0937 - val_accuracy: 0.9700 - val_loss: 0.1519\n",
      "Epoch 10/20\n",
      "\u001b[1m75/75\u001b[0m \u001b[32m━━━━━━━━━━━━━━━━━━━━\u001b[0m\u001b[37m\u001b[0m \u001b[1m79s\u001b[0m 544ms/step - accuracy: 0.9802 - loss: 0.0856 - val_accuracy: 0.9700 - val_loss: 0.1502\n",
      "Epoch 11/20\n",
      "\u001b[1m75/75\u001b[0m \u001b[32m━━━━━━━━━━━━━━━━━━━━\u001b[0m\u001b[37m\u001b[0m \u001b[1m44s\u001b[0m 586ms/step - accuracy: 0.9804 - loss: 0.0752 - val_accuracy: 0.9667 - val_loss: 0.1455\n",
      "Epoch 12/20\n",
      "\u001b[1m75/75\u001b[0m \u001b[32m━━━━━━━━━━━━━━━━━━━━\u001b[0m\u001b[37m\u001b[0m \u001b[1m41s\u001b[0m 551ms/step - accuracy: 0.9768 - loss: 0.0798 - val_accuracy: 0.9567 - val_loss: 0.1440\n",
      "Epoch 13/20\n",
      "\u001b[1m75/75\u001b[0m \u001b[32m━━━━━━━━━━━━━━━━━━━━\u001b[0m\u001b[37m\u001b[0m \u001b[1m102s\u001b[0m 818ms/step - accuracy: 0.9843 - loss: 0.0701 - val_accuracy: 0.9633 - val_loss: 0.1443\n",
      "Epoch 14/20\n",
      "\u001b[1m75/75\u001b[0m \u001b[32m━━━━━━━━━━━━━━━━━━━━\u001b[0m\u001b[37m\u001b[0m \u001b[1m43s\u001b[0m 560ms/step - accuracy: 0.9808 - loss: 0.0689 - val_accuracy: 0.9667 - val_loss: 0.1470\n",
      "Epoch 15/20\n",
      "\u001b[1m75/75\u001b[0m \u001b[32m━━━━━━━━━━━━━━━━━━━━\u001b[0m\u001b[37m\u001b[0m \u001b[1m51s\u001b[0m 681ms/step - accuracy: 0.9873 - loss: 0.0575 - val_accuracy: 0.9633 - val_loss: 0.1398\n",
      "Epoch 16/20\n",
      "\u001b[1m75/75\u001b[0m \u001b[32m━━━━━━━━━━━━━━━━━━━━\u001b[0m\u001b[37m\u001b[0m \u001b[1m74s\u001b[0m 574ms/step - accuracy: 0.9891 - loss: 0.0554 - val_accuracy: 0.9600 - val_loss: 0.1430\n",
      "Epoch 17/20\n",
      "\u001b[1m75/75\u001b[0m \u001b[32m━━━━━━━━━━━━━━━━━━━━\u001b[0m\u001b[37m\u001b[0m \u001b[1m43s\u001b[0m 567ms/step - accuracy: 0.9891 - loss: 0.0558 - val_accuracy: 0.9567 - val_loss: 0.1422\n",
      "Epoch 18/20\n",
      "\u001b[1m75/75\u001b[0m \u001b[32m━━━━━━━━━━━━━━━━━━━━\u001b[0m\u001b[37m\u001b[0m \u001b[1m38s\u001b[0m 509ms/step - accuracy: 0.9860 - loss: 0.0504 - val_accuracy: 0.9600 - val_loss: 0.1457\n",
      "Epoch 19/20\n",
      "\u001b[1m75/75\u001b[0m \u001b[32m━━━━━━━━━━━━━━━━━━━━\u001b[0m\u001b[37m\u001b[0m \u001b[1m40s\u001b[0m 532ms/step - accuracy: 0.9846 - loss: 0.0530 - val_accuracy: 0.9600 - val_loss: 0.1440\n",
      "Epoch 20/20\n",
      "\u001b[1m75/75\u001b[0m \u001b[32m━━━━━━━━━━━━━━━━━━━━\u001b[0m\u001b[37m\u001b[0m \u001b[1m39s\u001b[0m 526ms/step - accuracy: 0.9931 - loss: 0.0423 - val_accuracy: 0.9633 - val_loss: 0.1444\n"
     ]
    }
   ],
   "source": [
    "history = model.fit(datatrain, validation_data=datavalid, epochs=20, callbacks=[earlystop, checkpoint])"
   ]
  },
  {
   "cell_type": "code",
   "execution_count": 16,
   "id": "a540342a-1311-4e3d-9eb4-19dcef2f4841",
   "metadata": {},
   "outputs": [],
   "source": [
    "model = load_model('best_model.keras')"
   ]
  },
  {
   "cell_type": "code",
   "execution_count": 17,
   "id": "a6347eb8-cb5b-424e-ba39-cce2c9a37a02",
   "metadata": {},
   "outputs": [
    {
     "name": "stdout",
     "output_type": "stream",
     "text": [
      "\u001b[1m10/10\u001b[0m \u001b[32m━━━━━━━━━━━━━━━━━━━━\u001b[0m\u001b[37m\u001b[0m \u001b[1m17s\u001b[0m 492ms/step - accuracy: 0.9209 - loss: 0.2026\n",
      "Test Accuracy: 94.33%\n"
     ]
    }
   ],
   "source": [
    "loss, acc = model.evaluate(datatest)\n",
    "print(f\"Test Accuracy: {acc*100:.2f}%\")"
   ]
  },
  {
   "cell_type": "code",
   "execution_count": 18,
   "id": "e577c9a2-aa44-4d5a-9fe8-41a543b63049",
   "metadata": {},
   "outputs": [
    {
     "name": "stdout",
     "output_type": "stream",
     "text": [
      "\u001b[1m1/1\u001b[0m \u001b[32m━━━━━━━━━━━━━━━━━━━━\u001b[0m\u001b[37m\u001b[0m \u001b[1m6s\u001b[0m 6s/step\n",
      "\u001b[1m1/1\u001b[0m \u001b[32m━━━━━━━━━━━━━━━━━━━━\u001b[0m\u001b[37m\u001b[0m \u001b[1m1s\u001b[0m 537ms/step\n",
      "\u001b[1m1/1\u001b[0m \u001b[32m━━━━━━━━━━━━━━━━━━━━\u001b[0m\u001b[37m\u001b[0m \u001b[1m1s\u001b[0m 520ms/step\n",
      "\u001b[1m1/1\u001b[0m \u001b[32m━━━━━━━━━━━━━━━━━━━━\u001b[0m\u001b[37m\u001b[0m \u001b[1m1s\u001b[0m 513ms/step\n",
      "\u001b[1m1/1\u001b[0m \u001b[32m━━━━━━━━━━━━━━━━━━━━\u001b[0m\u001b[37m\u001b[0m \u001b[1m1s\u001b[0m 637ms/step\n",
      "\u001b[1m1/1\u001b[0m \u001b[32m━━━━━━━━━━━━━━━━━━━━\u001b[0m\u001b[37m\u001b[0m \u001b[1m1s\u001b[0m 613ms/step\n",
      "\u001b[1m1/1\u001b[0m \u001b[32m━━━━━━━━━━━━━━━━━━━━\u001b[0m\u001b[37m\u001b[0m \u001b[1m1s\u001b[0m 530ms/step\n",
      "\u001b[1m1/1\u001b[0m \u001b[32m━━━━━━━━━━━━━━━━━━━━\u001b[0m\u001b[37m\u001b[0m \u001b[1m1s\u001b[0m 524ms/step\n",
      "\u001b[1m1/1\u001b[0m \u001b[32m━━━━━━━━━━━━━━━━━━━━\u001b[0m\u001b[37m\u001b[0m \u001b[1m1s\u001b[0m 503ms/step\n",
      "\u001b[1m1/1\u001b[0m \u001b[32m━━━━━━━━━━━━━━━━━━━━\u001b[0m\u001b[37m\u001b[0m \u001b[1m6s\u001b[0m 6s/step\n"
     ]
    }
   ],
   "source": [
    "y_true = []\n",
    "y_pred = []\n",
    "\n",
    "for images, labels in datatest:\n",
    "    preds = model.predict(images)\n",
    "    y_true.extend(labels.numpy())\n",
    "    y_pred.extend(np.argmax(preds, axis=1))"
   ]
  },
  {
   "cell_type": "code",
   "execution_count": 19,
   "id": "6f8d63dc-9e60-4494-ab74-a6b3e87d1eca",
   "metadata": {},
   "outputs": [
    {
     "data": {
      "image/png": "[encoded data removed]",
      "text/plain": [
       "<Figure size 640x480 with 2 Axes>"
      ]
     },
     "metadata": {},
     "output_type": "display_data"
    }
   ],
   "source": [
    "cm = confusion_matrix(y_true, y_pred)\n",
    "sns.heatmap(cm, annot=True, fmt='d', xticklabels=class_names, yticklabels=class_names, cmap='Blues')\n",
    "plt.xlabel('Predicted')\n",
    "plt.ylabel('True')\n",
    "plt.title('Confusion Matrix')\n",
    "plt.show()"
   ]
  },
  {
   "cell_type": "code",
   "execution_count": 20,
   "id": "1db80b6d-bae8-41df-af56-d01ac1f6b7b3",
   "metadata": {},
   "outputs": [
    {
     "name": "stdout",
     "output_type": "stream",
     "text": [
      "                 precision    recall  f1-score   support\n",
      "\n",
      "        Battery       0.89      0.83      0.86        30\n",
      "       Keyboard       1.00      0.90      0.95        30\n",
      "      Microwave       0.91      0.97      0.94        30\n",
      "         Mobile       0.97      1.00      0.98        30\n",
      "          Mouse       0.94      1.00      0.97        30\n",
      "            PCB       0.90      0.93      0.92        30\n",
      "         Player       0.90      0.90      0.90        30\n",
      "        Printer       1.00      1.00      1.00        30\n",
      "     Television       0.97      0.93      0.95        30\n",
      "Washing Machine       0.97      0.97      0.97        30\n",
      "\n",
      "       accuracy                           0.94       300\n",
      "      macro avg       0.94      0.94      0.94       300\n",
      "   weighted avg       0.94      0.94      0.94       300\n",
      "\n"
     ]
    }
   ],
   "source": [
    "print(classification_report(y_true, y_pred, target_names=class_names))"
   ]
  },
  {
   "cell_type": "code",
   "execution_count": 26,
   "id": "de013188-7f23-40e7-92fb-eedb9e01821b",
   "metadata": {},
   "outputs": [],
   "source": [
    "def predict_image(img):\n",
    "    img = img.resize((128, 128))\n",
    "    img = np.array(img)\n",
    "    img = preprocess_input(img)  # Use EfficientNet's preprocessing\n",
    "    img = np.expand_dims(img, axis=0)\n",
    "    preds = model.predict(img)\n",
    "    return {class_names[i]: float(preds[0][i]) for i in range(len(class_names))}"
   ]
  },
  {
   "cell_type": "code",
   "execution_count": 27,
   "id": "4c2e1e50-abdb-4968-9d1c-64a88c972a00",
   "metadata": {
    "scrolled": true
   },
   "outputs": [
    {
     "name": "stdout",
     "output_type": "stream",
     "text": [
      "* Running on local URL:  http://127.0.0.1:7862\n",
      "* To create a public link, set `share=True` in `launch()`.\n"
     ]
    },
    {
     "data": {
      "text/html": [
       "<div><iframe src=\"http://127.0.0.1:7862/\" width=\"100%\" height=\"500\" allow=\"autoplay; camera; microphone; clipboard-read; clipboard-write;\" frameborder=\"0\" allowfullscreen></iframe></div>"
      ],
      "text/plain": [
       "<IPython.core.display.HTML object>"
      ]
     },
     "metadata": {},
     "output_type": "display_data"
    },
    {
     "data": {
      "text/plain": []
     },
     "execution_count": 27,
     "metadata": {},
     "output_type": "execute_result"
    }
   ],
   "source": [
    "interface = gr.Interface(fn=predict_image, inputs=gr.Image(type=\"pil\"), outputs=gr.Label())\n",
    "interface.launch()"
   ]
  }
 ],
 "metadata": {
  "kernelspec": {
   "display_name": "Python [conda env:base] *",
   "language": "python",
   "name": "conda-base-py"
  },
  "language_info": {
   "codemirror_mode": {
    "name": "ipython",
    "version": 3
   },
   "file_extension": ".py",
   "mimetype": "text/x-python",
   "name": "python",
   "nbconvert_exporter": "python",
   "pygments_lexer": "ipython3",
   "version": "3.12.7"
  }
 },
 "nbformat": 4,
 "nbformat_minor": 5
}
