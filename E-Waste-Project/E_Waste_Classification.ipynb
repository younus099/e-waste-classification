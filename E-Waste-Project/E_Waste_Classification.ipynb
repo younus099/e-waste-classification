{
  "cells": [
    {
      "cell_type": "code",
      "execution_count": 3,
      "id": "cf702e39-de8a-463c-9ce4-b19e6d1d300c",
      "metadata": {
        "id": "cf702e39-de8a-463c-9ce4-b19e6d1d300c"
      },
      "outputs": [],
      "source": [
        "import os\n",
        "import numpy as np\n",
        "import matplotlib.pyplot as plt\n",
        "import tensorflow as tf\n",
        "from tensorflow.keras.preprocessing.image import ImageDataGenerator\n",
        "from tensorflow.keras.applications import EfficientNetV2B0\n",
        "from tensorflow.keras import layers, models\n",
        "from tensorflow.keras.callbacks import EarlyStopping\n",
        "from sklearn.metrics import classification_report, confusion_matrix\n",
        "import gradio as gr"
      ]
    },
    {
      "cell_type": "code",
      "execution_count": null,
      "id": "0cf7ae62-6026-4ca2-bce3-d7c907c6b318",
      "metadata": {
        "id": "0cf7ae62-6026-4ca2-bce3-d7c907c6b318"
      },
      "outputs": [],
      "source": [
        "train_dir = \"dataset/train\"\n",
        "val_dir = \"dataset/validation\"\n",
        "test_dir = \"dataset/test\""
      ]
    }
  ],
  "metadata": {
    "kernelspec": {
      "display_name": "Python 3",
      "name": "python3"
    },
    "language_info": {
      "name": "python"
    },
    "colab": {
      "provenance": []
    }
  },
  "nbformat": 4,
  "nbformat_minor": 5
}