{
  "cells": [
    {
      "cell_type": "code",
      "execution_count": 3,
      "id": "cf702e39-de8a-463c-9ce4-b19e6d1d300c",
      "metadata": {
        "id": "cf702e39-de8a-463c-9ce4-b19e6d1d300c"
      },
      "outputs": [],
      "source": [
        "import os\n",
        "import numpy as np\n",
        "import matplotlib.pyplot as plt\n",
        "import tensorflow as tf\n",
        "from tensorflow.keras.preprocessing.image import ImageDataGenerator\n",
        "from tensorflow.keras.applications import EfficientNetV2B0\n",
        "from tensorflow.keras import layers, models\n",
        "from tensorflow.keras.callbacks import EarlyStopping\n",
        "from sklearn.metrics import classification_report, confusion_matrix\n",
        "import gradio as gr"
      ]
    },
    {
      "cell_type": "code",
      "execution_count": null,
      "id": "0cf7ae62-6026-4ca2-bce3-d7c907c6b318",
      "metadata": {
        "id": "0cf7ae62-6026-4ca2-bce3-d7c907c6b318"
      },
      "outputs": [],
      "source": [
        "train_dir = \"dataset/train\"\n",
        "val_dir = \"dataset/validation\"\n",
        "test_dir = \"dataset/test\""
      ]
    },
    {
      "cell_type": "code",
      "execution_count": null,
      "id": "d2becda1-3a93-43c2-b026-28c2616204a2",
      "metadata": {
        "id": "d2becda1-3a93-43c2-b026-28c2616204a2"
      },
      "outputs": [],
      "source": []
    }
  ],
  "metadata": {
    "kernelspec": {
      "display_name": "Python 3",
      "name": "python3"
    },
    "language_info": {
      "name": "python"
    },
    "colab": {
      "provenance": []
    }
  },
  "nbformat": 4,
  "nbformat_minor": 5
}